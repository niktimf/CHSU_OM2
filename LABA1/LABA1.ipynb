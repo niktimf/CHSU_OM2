{
 "cells": [
  {
   "cell_type": "markdown",
   "source": [
    "# МИНОБРНАУКИ РОССИИ федеральное государственное бюджетное образовательное учреждение высшего образования \"Череповецкий государственный университет\"\n",
    "\n",
    "**Институт:** Информационных технологий\n",
    "**Кафедра:** Математики и информатики\n",
    "**Студент группы:** 1ПМБ-02-1оп-21\n",
    "**Направление подготовки**: 01.04.02 Прикладная математика и информатика\n",
    "**ФИО:** Тимофеенко Никита Вячеславович\n",
    "**Руководитель:** Мухин Владимир Васильевич\n",
    "**Должность:** профессор\n",
    "**Дата предстваления работы:** <<4>> декабря 2023 г."
   ],
   "metadata": {
    "collapsed": false,
    "pycharm": {
     "name": "#%% md\n"
    }
   }
  },
  {
   "cell_type": "code",
   "execution_count": null,
   "outputs": [],
   "source": [],
   "metadata": {
    "collapsed": false,
    "pycharm": {
     "name": "#%%\n"
    }
   }
  },
  {
   "cell_type": "code",
   "execution_count": 22,
   "outputs": [],
   "source": [
    "class Config:\n",
    "    \"\"\"\n",
    "    Класс конфигурации для хранения констант.\n",
    "\n",
    "    Атрибуты:\n",
    "    - SVEN_START_POINT: Начальная точка для метода Свена.\n",
    "    - SVEN_STEP_SIZE: Шаг поиска для метода Свена.\n",
    "    - INTERVAL: Интервал\n",
    "    - FIBONACCI_ITERATIONS: Количество итераций для метода Фибоначчи.\n",
    "    - PRECISION: Желаемая точность.\n",
    "    \"\"\"\n",
    "    # Параметры для метода Свена\n",
    "    SVEN_START_POINT = 0\n",
    "    SVEN_STEP_SIZE = 1\n",
    "\n",
    "    # Интервал, задаваемый пользователем\n",
    "    INTERVAL = (-0.25, 0.75)\n",
    "\n",
    "    # Параметры для метода Фибоначчи\n",
    "    FIBONACCI_ITERATIONS = 10000\n",
    "    PRECISION = 0.0001\n"
   ],
   "metadata": {
    "collapsed": false,
    "pycharm": {
     "name": "#%%\n"
    }
   }
  },
  {
   "cell_type": "code",
   "execution_count": 21,
   "outputs": [
    {
     "name": "stdout",
     "output_type": "stream",
     "text": [
      "Интервал неопределенности: (-1, 0), вычисленный с помощью алгоритма Свена, при начальной точке: 0 и определенном шаге : 1\n",
      "Минимум функции: -3.3053480675947975e-05\n"
     ]
    }
   ],
   "source": [
    "import math\n",
    "from functools import reduce\n",
    "\n",
    "\n",
    "class SvenMethod:\n",
    "    \"\"\"\n",
    "    Класс для реализации метода Свена.\n",
    "    Используется для нахождения интервала неопределенности, в котором лежит минимум функции.\n",
    "    \"\"\"\n",
    "    def __init__(self, func, start_point, step_size):\n",
    "        \"\"\"\n",
    "        Инициализация класса.\n",
    "        :param func: Функция, минимум которой необходимо найти.\n",
    "        :param start_point: Начальная точка для поиска.\n",
    "        :param step_size: Шаг поиска.\n",
    "        \"\"\"\n",
    "        self.func = func\n",
    "        self.start_point = start_point\n",
    "        self.step_size = step_size\n",
    "\n",
    "    def find_interval(self):\n",
    "        \"\"\"\n",
    "        Находит интервал неопределенности для минимума функции.\n",
    "        :return: Кортеж с границами интервала (min, max).\n",
    "        \"\"\"\n",
    "        x0 = self.start_point   # x0 - начальная точка поиска\n",
    "        delta = self.step_size  # delta - шаг поиска\n",
    "\n",
    "        f0 = self.func(x0)      # Вычисление значения функции в начальной точке\n",
    "        f1 = self.func(x0 + delta)  # Вычисление значения функции в точке x0 + delta\n",
    "\n",
    "        # Если функция в точке x0 + delta больше, чем в x0, меняем направление поиска\n",
    "        if f1 > f0:\n",
    "            delta = -delta\n",
    "            f1 = self.func(x0 + delta)  # Пересчитываем f1 для новой точки\n",
    "\n",
    "        x1 = x0 + delta  # Новая точка поиска\n",
    "\n",
    "        # Пока функция убывает, продолжаем двигаться в данном направлении\n",
    "        while self.func(x1 + delta) < f1:\n",
    "            delta *= 2                # Удваиваем шаг\n",
    "            x0 = x1                   # Обновляем x0\n",
    "            x1 = x0 + delta           # Вычисляем новую точку x1\n",
    "            f1 = self.func(x1)        # Вычисляем значение функции в новой точке x1\n",
    "\n",
    "        # Возвращаем интервал, где локализован минимум функции\n",
    "        return min(x0, x1), max(x0, x1)\n",
    "\n",
    "\n",
    "def fibonacci_number(n):\n",
    "    \"\"\"\n",
    "    Вычисляет n-ое число Фибоначчи.\n",
    "    :param n: Порядковый номер числа Фибоначчи.\n",
    "    :return: n-ое число Фибоначчи.\n",
    "    \"\"\"\n",
    "    # reduce функция:\n",
    "    # reduce — это функция из модуля functools в Python. Она применяет указанную функцию к элементам последовательности (например, списка), \"сворачивая\" эту последовательность в одно значение. Функция reduce принимает три аргумента: функцию, последовательность и начальное значение аккумулятора.\n",
    "\n",
    "    # Лямбда-функция:\n",
    "    # lambda sequence, _: sequence + [sequence[-1] + sequence[-2]]. Это функция, которая принимает два аргумента: sequence и _. В контексте reduce, sequence — это текущее значение аккумулятора (начинается с начального значения), а _ — текущий элемент последовательности. Однако в данной лямбда-функции _ игнорируется (что обозначается символом _), так как нас интересует только аккумулятор sequence.\n",
    "\n",
    "    # Тело лямбда-функции:\n",
    "    # sequence + [sequence[-1] + sequence[-2]]. Здесь мы добавляем к текущему списку sequence новый элемент, который является суммой двух последних элементов этого списка. sequence[-1] обозначает последний элемент списка, а sequence[-2] — предпоследний.\n",
    "\n",
    "    # Последовательность range(n - 1):\n",
    "    # Это диапазон чисел от 0 до n - 1. Функция reduce будет применять лямбда-функцию к каждому элементу этого диапазона. Каждый вызов лямбда-функции расширяет список sequence, добавляя в него новое число Фибоначчи.\n",
    "\n",
    "    #Начальное значение [0, 1]: Это начальное значение аккумулятора sequence для reduce. Оно представляет собой список с первыми двумя числами Фибоначчи.\n",
    "    fibonacci_sequence = reduce(\n",
    "        lambda sequence, _: sequence + [sequence[-1] + sequence[-2]],\n",
    "        range(n - 1), [0, 1])\n",
    "    return fibonacci_sequence[-1]\n",
    "\n",
    "\n",
    "class FibonacciMethod:\n",
    "    \"\"\"\n",
    "    Класс для поиска минимума функции с использованием метода Фибоначчи.\n",
    "    \"\"\"\n",
    "    def __init__(self, func, interval, n):\n",
    "        \"\"\"\n",
    "        Инициализация класса.\n",
    "        :param func: Функция, минимум которой необходимо найти.\n",
    "        :param interval: Интервал неопределенности.\n",
    "        :param n: Количество итераций метода.\n",
    "        \"\"\"\n",
    "        self.func = func\n",
    "        self.a, self.b = interval\n",
    "        self.n = n\n",
    "\n",
    "    def find_minimum(self, precision):\n",
    "        \"\"\"\n",
    "        Находит минимум функции на заданном интервале с использованием метода Фибоначчи.\n",
    "        :param precision: Желаемая точность результата.\n",
    "        :return: Точка минимума функции.\n",
    "        \"\"\"\n",
    "        '''\n",
    "        a, b = self.a, self.b\n",
    "        k = 0\n",
    "        while k < self.n and (b - a) > precision:\n",
    "\t        x1 = a + (fibonacci_number(self.n - k - 2) / fibonacci_number(self.n - k)) * (b - a)\n",
    "\t        x2 = a + (fibonacci_number(self.n - k - 1) / fibonacci_number(self.n - k)) * (b - a)\n",
    "\n",
    "\t        if self.func(x1) < self.func(x2):\n",
    "\t\t        b = x2\n",
    "\t        else:\n",
    "\t\t        a = x1\n",
    "\n",
    "\t        k += 1\n",
    "\n",
    "        return (a + b) / 2\n",
    "        '''\n",
    "        a, b = self.a, self.b\n",
    "        k = 0\n",
    "        while k < self.n:\n",
    "            x1 = a + (fibonacci_number(self.n - k - 2) / fibonacci_number(self.n - k)) * (b - a)\n",
    "            x2 = a + (fibonacci_number(self.n - k - 1) / fibonacci_number(self.n - k)) * (b - a)\n",
    "\n",
    "            func_x1 = self.func(x1)\n",
    "            func_x2 = self.func(x2)\n",
    "\n",
    "            # Условие остановки: разница значений функции и интервалов меньше заданной точности\n",
    "            if abs(func_x1 - func_x2) < precision and (b - a) < precision:\n",
    "                break\n",
    "\n",
    "            if func_x1 < func_x2:\n",
    "                b = x2\n",
    "            else:\n",
    "                a = x1\n",
    "\n",
    "            k += 1\n",
    "\n",
    "        return (a + b) / 2\n",
    "\n",
    "\n",
    "\n",
    "# Пример функции для минимизации\n",
    "def f(x):\n",
    "    \"\"\"\n",
    "    Пример функции для демонстрации работы методов.\n",
    "    :param x: Независимая переменная.\n",
    "    :return: Значение функции.\n",
    "    \"\"\"\n",
    "    if x >= 0:\n",
    "        return (math.cos(x) - math.e * x ** 2) ** 2\n",
    "    else:\n",
    "        return 1 - x\n",
    "\n",
    "\n",
    "\n",
    "# Использование классов для поиска минимума\n",
    "sven_method = SvenMethod(func=f, start_point=Config.SVEN_START_POINT, step_size=Config.SVEN_STEP_SIZE)\n",
    "interval = sven_method.find_interval()\n",
    "\n",
    "print(f'Интервал неопределенности: {interval},'\n",
    "      f' вычисленный с помощью алгоритма Свена, при начальной точке: {Config.SVEN_START_POINT} и определенном шаге : {Config.SVEN_STEP_SIZE}')\n",
    "\n",
    "fibonacci_method = FibonacciMethod(func=f, interval=interval, n=Config.FIBONACCI_ITERATIONS)\n",
    "minimum = fibonacci_method.find_minimum(precision=Config.PRECISION)\n",
    "\n",
    "\n",
    "print(f'Минимум функции: {minimum}')\n"
   ],
   "metadata": {
    "collapsed": false,
    "pycharm": {
     "name": "#%%\n"
    }
   }
  },
  {
   "cell_type": "code",
   "execution_count": null,
   "outputs": [],
   "source": [],
   "metadata": {
    "collapsed": false,
    "pycharm": {
     "name": "#%%\n"
    }
   }
  },
  {
   "cell_type": "code",
   "execution_count": null,
   "outputs": [],
   "source": [],
   "metadata": {
    "collapsed": false,
    "pycharm": {
     "name": "#%%\n"
    }
   }
  },
  {
   "cell_type": "code",
   "execution_count": null,
   "outputs": [],
   "source": [],
   "metadata": {
    "collapsed": false,
    "pycharm": {
     "name": "#%%\n"
    }
   }
  },
  {
   "cell_type": "code",
   "execution_count": null,
   "outputs": [],
   "source": [],
   "metadata": {
    "collapsed": false,
    "pycharm": {
     "name": "#%%\n"
    }
   }
  }
 ],
 "metadata": {
  "kernelspec": {
   "display_name": "Python 3",
   "language": "python",
   "name": "python3"
  },
  "language_info": {
   "codemirror_mode": {
    "name": "ipython",
    "version": 2
   },
   "file_extension": ".py",
   "mimetype": "text/x-python",
   "name": "python",
   "nbconvert_exporter": "python",
   "pygments_lexer": "ipython2",
   "version": "2.7.6"
  }
 },
 "nbformat": 4,
 "nbformat_minor": 0
}